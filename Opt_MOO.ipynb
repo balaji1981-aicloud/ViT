{
 "cells": [
  {
   "cell_type": "markdown",
   "id": "79c43809",
   "metadata": {},
   "source": [
    "**Problem Statement:**\n",
    "\n",
    "Design a car’s double-wishbone suspension system by selecting key mechanical parameters to balance ride comfort, handling, durability, and manufacturing cost.\n",
    "\n",
    "Input Variables:\n",
    "\n",
    "| Variable              | Description                                  | Units       |\n",
    "| --------------------- | -------------------------------------------- | ----------- |\n",
    "| `spring_stiffness`    | Spring stiffness                             | N/m         |\n",
    "| `damping_coefficient` | Damping coefficient                          | Ns/m        |\n",
    "| `unsprung_mass`       | Mass not supported by suspension             | kg          |\n",
    "| `lower_arm_length`    | Lower wishbone arm length                    | m           |\n",
    "| `upper_arm_angle_deg` | Upper wishbone angle                         | degrees     |\n",
    "| `tire_stiffness`      | Stiffness of the tire                        | N/m         |\n",
    "\n",
    "Objectives:\n",
    "\n",
    "| Objective            | Description                                |\n",
    "| -------------------- | ------------------------------------------ |\n",
    "| `ride_discomfort`    | Vertical acceleration-based discomfort     |\n",
    "| `handling_quality`   | Tire-road contact effectiveness (maximize) |\n",
    "| `fatigue_index`      | Durability index (lower = better)          |\n",
    "| `manufacturing_cost` | Estimated total cost of system             |\n",
    "\n",
    "\n"
   ]
  },
  {
   "cell_type": "code",
   "execution_count": 11,
   "id": "500e49b8",
   "metadata": {},
   "outputs": [],
   "source": [
    "import pandas as pd\n",
    "import numpy as np\n",
    "import warnings\n",
    "warnings.filterwarnings('ignore')\n",
    "from pymoo.core.mixed import  MixedVariableSampling, MixedVariableMating,MixedVariableDuplicateElimination\n",
    "from pymoo.core.problem import ElementwiseProblem\n",
    "from pymoo.core.variable import Real, Integer, Choice\n",
    "from pymoo.algorithms.moo.nsga2 import NSGA2\n",
    "from pymoo.optimize import minimize\n",
    "from sklearn.model_selection import train_test_split\n",
    "from sklearn.metrics import r2_score, mean_squared_error\n",
    "from xgboost import XGBRegressor\n",
    "from pymoo.operators.survival.rank_and_crowding.metrics import calc_crowding_distance\n",
    "from pymoo.util.nds.non_dominated_sorting import NonDominatedSorting\n",
    "from pymoo.util.ref_dirs import get_reference_directions\n",
    "from pymoo.algorithms.moo.nsga3 import NSGA3"
   ]
  },
  {
   "cell_type": "markdown",
   "id": "f895130b",
   "metadata": {},
   "source": [
    "**Reading the Synthetic generated data**"
   ]
  },
  {
   "cell_type": "code",
   "execution_count": 3,
   "id": "2c414abb",
   "metadata": {},
   "outputs": [],
   "source": [
    "df_suspension = pd.read_csv('df_suspension.csv')"
   ]
  },
  {
   "cell_type": "markdown",
   "id": "bdfe31e7",
   "metadata": {},
   "source": [
    "**Buliding ML models between inputs and the objectives**"
   ]
  },
  {
   "cell_type": "code",
   "execution_count": 4,
   "id": "45c84056",
   "metadata": {},
   "outputs": [
    {
     "data": {
      "text/plain": [
       "{'ride_discomfort': {'R2': 0.9958035869943223, 'RMSE': 0.03793099437663878},\n",
       " 'handling_quality': {'R2': 0.9964683134670561, 'RMSE': 7.967660799863099},\n",
       " 'fatigue_index': {'R2': 0.9225197984448338, 'RMSE': 1.0888512322917472},\n",
       " 'manufacturing_cost': {'R2': 0.9947853624863139, 'RMSE': 224.65174661135265}}"
      ]
     },
     "execution_count": 4,
     "metadata": {},
     "output_type": "execute_result"
    }
   ],
   "source": [
    "# Features and targets\n",
    "X = df_suspension[[\n",
    "    \"spring_stiffness\",\n",
    "    \"damping_coefficient\",\n",
    "    \"unsprung_mass\",\n",
    "    \"lower_arm_length\",\n",
    "    \"upper_arm_angle_deg\",\n",
    "    \"tire_stiffness\"\n",
    "]]\n",
    "\n",
    "y_targets = {\n",
    "    \"ride_discomfort\": df_suspension[\"ride_discomfort\"],\n",
    "    \"handling_quality\": df_suspension[\"handling_quality\"],\n",
    "    \"fatigue_index\": df_suspension[\"fatigue_index\"],\n",
    "    \"manufacturing_cost\": df_suspension[\"manufacturing_cost\"]\n",
    "}\n",
    "\n",
    "# Split data\n",
    "X_train, X_test = train_test_split(X, test_size=0.2, random_state=42)\n",
    "\n",
    "models = {}\n",
    "metrics = {}\n",
    "\n",
    "for target_name, y in y_targets.items():\n",
    "    y_train, y_test = train_test_split(y, test_size=0.2, random_state=42)\n",
    "    \n",
    "    model = XGBRegressor(\n",
    "        n_estimators=100,\n",
    "        max_depth=4,\n",
    "        learning_rate=0.1,\n",
    "        objective='reg:squarederror',\n",
    "        verbosity=0\n",
    "    )\n",
    "    model.fit(X_train, y_train)\n",
    "    y_pred = model.predict(X_test)\n",
    "\n",
    "    models[target_name] = model\n",
    "    metrics[target_name] = {\n",
    "        \"R2\": r2_score(y_test, y_pred),\n",
    "        \"RMSE\": np.sqrt(mean_squared_error(y_test, y_pred))\n",
    "    }\n",
    "\n",
    "metrics\n"
   ]
  },
  {
   "cell_type": "markdown",
   "id": "5b6c7e87",
   "metadata": {},
   "source": [
    "**Search Space with bounds & Objective:**"
   ]
  },
  {
   "cell_type": "code",
   "execution_count": 5,
   "id": "a0118611",
   "metadata": {},
   "outputs": [],
   "source": [
    "continuous = {\n",
    "    'spring_stiffness': (20000, 100000),       \n",
    "    'damping_coefficient': (500, 5000),       \n",
    "    'lower_arm_length': (0.2, 0.5),            \n",
    "    'tire_stiffness': (100000, 300000)         \n",
    "}\n",
    "\n",
    "integer = {\n",
    "    'unsprung_mass': [30, 40, 50, 60, 70, 80],                      \n",
    "    'upper_arm_angle_deg': [5, 10, 15, 20, 25],                    \n",
    "}\n",
    "objectives = {\n",
    "    'ride_discomfort': 'minimize',\n",
    "    'handling_quality': 'maximize',\n",
    "    'fatigue_index': 'minimize',\n",
    "    'manufacturing_cost': 'minimize'\n",
    "} "
   ]
  },
  {
   "cell_type": "markdown",
   "id": "c7b26c36",
   "metadata": {},
   "source": [
    "**Feature order - order in which variables used for training**"
   ]
  },
  {
   "cell_type": "code",
   "execution_count": 6,
   "id": "1956d12b",
   "metadata": {},
   "outputs": [],
   "source": [
    "feature_order = list(X.columns)"
   ]
  },
  {
   "cell_type": "markdown",
   "id": "1c2217f1",
   "metadata": {},
   "source": [
    "**Defining Mixed variable Optmization Problem**"
   ]
  },
  {
   "cell_type": "code",
   "execution_count": 35,
   "id": "e04cbf13",
   "metadata": {},
   "outputs": [
    {
     "data": {
      "text/plain": [
       "{'spring_stiffness': <pymoo.core.variable.Real at 0x19b333a06a0>,\n",
       " 'damping_coefficient': <pymoo.core.variable.Real at 0x19b332244f0>,\n",
       " 'unsprung_mass': <pymoo.core.variable.Choice at 0x19b333a26b0>,\n",
       " 'lower_arm_length': <pymoo.core.variable.Real at 0x19b33224460>,\n",
       " 'upper_arm_angle_deg': <pymoo.core.variable.Choice at 0x19b33225a80>,\n",
       " 'tire_stiffness': <pymoo.core.variable.Real at 0x19b33224400>}"
      ]
     },
     "execution_count": 35,
     "metadata": {},
     "output_type": "execute_result"
    }
   ],
   "source": [
    "variables_re"
   ]
  },
  {
   "cell_type": "code",
   "execution_count": 8,
   "id": "53f389a3",
   "metadata": {},
   "outputs": [],
   "source": [
    "real_variables = {}\n",
    "choice_variables={}\n",
    "for key,value in integer.items():\n",
    "    choice_variables[key] = Choice(options=value)\n",
    "\n",
    "for key,value in continuous.items():\n",
    "    real_variables[key] =  Real(bounds=(value[0],value[1]))\n",
    "\n",
    "variables = real_variables | choice_variables\n",
    "variables_re =  {key: variables[key] for key in feature_order if key in variables}\n",
    "\n",
    "\n",
    "class MultiObjectiveMixedVariableProblem(ElementwiseProblem):\n",
    "\n",
    "    def __init__(self, model,variables,objective,**kwargs):\n",
    "        self.model = model\n",
    "        self.variables = variables\n",
    "        self.objective = objective\n",
    "        n_obj = len(objective)\n",
    "        super().__init__(vars=self.variables, n_obj=n_obj, **kwargs)\n",
    "\n",
    "    def _evaluate(self, X, out, *args, **kwargs):\n",
    "        X_values = np.array(list(X.values())).reshape(1, -1)\n",
    "        predictions = []\n",
    "        for key,value in self.objective.items():\n",
    "            if value == 'maximize':\n",
    "                y_pred = -1*(self.model[key].predict(X_values))\n",
    "                predictions.append(y_pred[0])\n",
    "            else:\n",
    "                y_pred = self.model[key].predict(X_values)\n",
    "                predictions.append(y_pred[0])\n",
    "        out[\"F\"] = predictions\n",
    "        \n",
    "\n",
    "optimization_problem = MultiObjectiveMixedVariableProblem(\n",
    "        models,\n",
    "        variables_re,objectives\n",
    "    )\n"
   ]
  },
  {
   "cell_type": "markdown",
   "id": "5be2deb9-36f5-462d-afe6-da8bff1fd843",
   "metadata": {},
   "source": [
    "**NSGA2 Implementation**"
   ]
  },
  {
   "cell_type": "code",
   "execution_count": 18,
   "id": "9c6d40d8-4364-4a75-8ed9-76694fc5bc61",
   "metadata": {},
   "outputs": [],
   "source": [
    "algorithm = NSGA2(\n",
    "    pop_size=100,\n",
    "    sampling=MixedVariableSampling(),\n",
    "    mating=MixedVariableMating(eliminate_duplicates=MixedVariableDuplicateElimination()),\n",
    "    eliminate_duplicates=MixedVariableDuplicateElimination(),\n",
    ")\n",
    "res = minimize(optimization_problem,\n",
    "                  algorithm,\n",
    "                  seed=42,\n",
    "                  verbose=False,\n",
    "                  save_history=True)"
   ]
  },
  {
   "cell_type": "code",
   "execution_count": 31,
   "id": "f29fa182",
   "metadata": {},
   "outputs": [],
   "source": [
    "X_feasible = res.X  \n",
    "F_feasible = res.F\n",
    "nds = NonDominatedSorting()\n",
    "fronts = nds.do(F_feasible)  \n",
    "\n",
    "\n",
    "F_non_dominated = F_feasible[fronts[0]]\n",
    "X_non_dominated = X_feasible[fronts[0]]\n",
    "\n",
    "\n",
    "cd = calc_crowding_distance(F_non_dominated)\n",
    "\n",
    "\n",
    "top_indices = np.argsort(-cd)[:5]  \n",
    "best_X = X_non_dominated[top_indices]\n",
    "best_F = F_non_dominated[top_indices]\n",
    "\n",
    "for count,fitness in enumerate(best_F):\n",
    "    for pos,val in enumerate(fitness):\n",
    "        if list(objectives.values())[pos]=='maximize':\n",
    "            fitness[pos] = -1*fitness[pos] \n",
    "        else:\n",
    "            pass\n",
    "optimal_inputs = [x for x in best_X]\n",
    "optimal_objectives = [dict(zip(list(objectives.keys()), row)) for row in best_F]"
   ]
  },
  {
   "cell_type": "markdown",
   "id": "cc37a5ba",
   "metadata": {},
   "source": [
    "**Optimal inputs**"
   ]
  },
  {
   "cell_type": "code",
   "execution_count": 33,
   "id": "1190fbee",
   "metadata": {},
   "outputs": [
    {
     "data": {
      "text/plain": [
       "[{'spring_stiffness': 22845.088300568576,\n",
       "  'damping_coefficient': 1661.382110556341,\n",
       "  'lower_arm_length': 0.3751871366603923,\n",
       "  'tire_stiffness': 145878.94914098992,\n",
       "  'unsprung_mass': 40,\n",
       "  'upper_arm_angle_deg': 20},\n",
       " {'spring_stiffness': 20599.176469335,\n",
       "  'damping_coefficient': 4582.945287336773,\n",
       "  'lower_arm_length': 0.2965728098219272,\n",
       "  'tire_stiffness': 160138.42715011095,\n",
       "  'unsprung_mass': 80,\n",
       "  'upper_arm_angle_deg': 15},\n",
       " {'spring_stiffness': 29763.058787582304,\n",
       "  'damping_coefficient': 4831.0128272395,\n",
       "  'unsprung_mass': 70,\n",
       "  'lower_arm_length': 0.21232025503036275,\n",
       "  'upper_arm_angle_deg': 5,\n",
       "  'tire_stiffness': 239082.22462132951},\n",
       " {'spring_stiffness': 95910.84298026667,\n",
       "  'damping_coefficient': 2019.2682713163258,\n",
       "  'unsprung_mass': 50,\n",
       "  'lower_arm_length': 0.2583140101984619,\n",
       "  'upper_arm_angle_deg': 25,\n",
       "  'tire_stiffness': 295580.1337508542},\n",
       " {'spring_stiffness': 20441.769369888192,\n",
       "  'damping_coefficient': 2804.418762346764,\n",
       "  'unsprung_mass': 80,\n",
       "  'lower_arm_length': 0.42900932690117327,\n",
       "  'upper_arm_angle_deg': 20,\n",
       "  'tire_stiffness': 216232.52423616528}]"
      ]
     },
     "execution_count": 33,
     "metadata": {},
     "output_type": "execute_result"
    }
   ],
   "source": [
    "optimal_inputs"
   ]
  },
  {
   "cell_type": "markdown",
   "id": "985933ab",
   "metadata": {},
   "source": [
    "**Optimal Objectives**"
   ]
  },
  {
   "cell_type": "code",
   "execution_count": 34,
   "id": "157d456e",
   "metadata": {},
   "outputs": [
    {
     "data": {
      "text/plain": [
       "[{'ride_discomfort': 0.6758543848991394,\n",
       "  'handling_quality': 173.47769165039062,\n",
       "  'fatigue_index': 7.150527000427246,\n",
       "  'manufacturing_cost': 6564.13134765625},\n",
       " {'ride_discomfort': 0.6733095645904541,\n",
       "  'handling_quality': 170.3580780029297,\n",
       "  'fatigue_index': 2.831373691558838,\n",
       "  'manufacturing_cost': 6830.466796875},\n",
       " {'ride_discomfort': 0.4409847557544708,\n",
       "  'handling_quality': 259.5946044921875,\n",
       "  'fatigue_index': 0.0509452261030674,\n",
       "  'manufacturing_cost': 13392.076171875},\n",
       " {'ride_discomfort': 1.9293001890182495,\n",
       "  'handling_quality': 665.8521728515625,\n",
       "  'fatigue_index': 3.5059852600097656,\n",
       "  'manufacturing_cost': 19507.625},\n",
       " {'ride_discomfort': 0.2753681540489197,\n",
       "  'handling_quality': 181.94676208496094,\n",
       "  'fatigue_index': 1.112094521522522,\n",
       "  'manufacturing_cost': 12729.9931640625}]"
      ]
     },
     "execution_count": 34,
     "metadata": {},
     "output_type": "execute_result"
    }
   ],
   "source": [
    "optimal_objectives "
   ]
  },
  {
   "cell_type": "markdown",
   "id": "b11931e8-0560-4b46-8a4a-cc8f954d2df5",
   "metadata": {},
   "source": [
    "**NSGA3 Implementation**"
   ]
  },
  {
   "cell_type": "code",
   "execution_count": 12,
   "id": "996e7d7a-1f33-4de7-854d-c893bfb55063",
   "metadata": {},
   "outputs": [],
   "source": [
    "n_obj = len(objectives)\n",
    "\n",
    "ref_dirs = get_reference_directions(\"das-dennis\", n_obj, n_partitions=10)\n",
    "algorithm = NSGA3(ref_dirs=ref_dirs,pop_size=len(ref_dirs),sampling=MixedVariableSampling(),\n",
    "                    mating=MixedVariableMating(eliminate_duplicates=MixedVariableDuplicateElimination()),\n",
    "                    eliminate_duplicates=MixedVariableDuplicateElimination())\n",
    "\n",
    "res = minimize(optimization_problem,\n",
    "                  algorithm,\n",
    "                  seed=42,\n",
    "                  verbose=False,\n",
    "                  save_history=True)"
   ]
  },
  {
   "cell_type": "code",
   "execution_count": 14,
   "id": "26b632b2-c0fd-4328-b931-467b6af3b5fc",
   "metadata": {},
   "outputs": [],
   "source": [
    "X_feasible = res.X  \n",
    "F_feasible = res.F\n",
    "nds = NonDominatedSorting()\n",
    "fronts = nds.do(F_feasible)  \n",
    "\n",
    "\n",
    "F_non_dominated = F_feasible[fronts[0]]\n",
    "X_non_dominated = X_feasible[fronts[0]]\n",
    "\n",
    "\n",
    "cd = calc_crowding_distance(F_non_dominated)\n",
    "\n",
    "\n",
    "top_indices = np.argsort(-cd)[:5]  \n",
    "best_X = X_non_dominated[top_indices]\n",
    "best_F = F_non_dominated[top_indices]\n",
    "\n",
    "for count,fitness in enumerate(best_F):\n",
    "    for pos,val in enumerate(fitness):\n",
    "        if list(objectives.values())[pos]=='maximize':\n",
    "            fitness[pos] = -1*fitness[pos] \n",
    "        else:\n",
    "            pass\n",
    "optimal_inputs = [x for x in best_X]\n",
    "optimal_objectives = [dict(zip(list(objectives.keys()), row)) for row in best_F]"
   ]
  },
  {
   "cell_type": "markdown",
   "id": "a31bab60-e9f6-47a7-9add-0996b15c7c5a",
   "metadata": {},
   "source": [
    "**Optimal Inputs**"
   ]
  },
  {
   "cell_type": "code",
   "execution_count": 15,
   "id": "1f0d5bff-bf73-42eb-a783-b2764767d586",
   "metadata": {},
   "outputs": [
    {
     "data": {
      "text/plain": [
       "[{'spring_stiffness': 78800.10981361875,\n",
       "  'damping_coefficient': 566.9285235664543,\n",
       "  'lower_arm_length': 0.32223272147580856,\n",
       "  'tire_stiffness': 252811.8510971255,\n",
       "  'unsprung_mass': 40,\n",
       "  'upper_arm_angle_deg': 10},\n",
       " {'spring_stiffness': 97332.38552349356,\n",
       "  'damping_coefficient': 2999.4426752118234,\n",
       "  'unsprung_mass': 80,\n",
       "  'lower_arm_length': 0.4710091437908075,\n",
       "  'upper_arm_angle_deg': 5,\n",
       "  'tire_stiffness': 279606.10978999734},\n",
       " {'spring_stiffness': 39011.003519391976,\n",
       "  'damping_coefficient': 4157.598052658761,\n",
       "  'unsprung_mass': 60,\n",
       "  'lower_arm_length': 0.23427137777611906,\n",
       "  'upper_arm_angle_deg': 10,\n",
       "  'tire_stiffness': 227823.98756310006},\n",
       " {'spring_stiffness': 23588.352399858635,\n",
       "  'damping_coefficient': 1395.402107059028,\n",
       "  'lower_arm_length': 0.39234492954774225,\n",
       "  'tire_stiffness': 275908.6161941937,\n",
       "  'unsprung_mass': 30,\n",
       "  'upper_arm_angle_deg': 25},\n",
       " {'spring_stiffness': 98950.95492804138,\n",
       "  'damping_coefficient': 3390.8867519284204,\n",
       "  'unsprung_mass': 30,\n",
       "  'lower_arm_length': 0.2098540010730315,\n",
       "  'upper_arm_angle_deg': 5,\n",
       "  'tire_stiffness': 106130.50044116122}]"
      ]
     },
     "execution_count": 15,
     "metadata": {},
     "output_type": "execute_result"
    }
   ],
   "source": [
    "optimal_inputs"
   ]
  },
  {
   "cell_type": "markdown",
   "id": "fa7b7817-ed3b-498a-a38c-6d2a33040466",
   "metadata": {},
   "source": [
    "**Optimal Objectives**"
   ]
  },
  {
   "cell_type": "code",
   "execution_count": 16,
   "id": "829317f3-8f6f-4e46-856f-c69bf68fab02",
   "metadata": {},
   "outputs": [
    {
     "data": {
      "text/plain": [
       "[{'ride_discomfort': 2.5618908405303955,\n",
       "  'handling_quality': 426.17822265625,\n",
       "  'fatigue_index': 33.1205940246582,\n",
       "  'manufacturing_cost': 9412.58203125},\n",
       " {'ride_discomfort': 1.222818374633789,\n",
       "  'handling_quality': 713.8765258789062,\n",
       "  'fatigue_index': 3.7846755981445312,\n",
       "  'manufacturing_cost': 18948.70703125},\n",
       " {'ride_discomfort': 0.681006133556366,\n",
       "  'handling_quality': 330.2305908203125,\n",
       "  'fatigue_index': 0.3334009647369385,\n",
       "  'manufacturing_cost': 13547.740234375},\n",
       " {'ride_discomfort': 0.7179917097091675,\n",
       "  'handling_quality': 184.72923278808594,\n",
       "  'fatigue_index': 8.977934837341309,\n",
       "  'manufacturing_cost': 6568.3896484375},\n",
       " {'ride_discomfort': 3.1853697299957275,\n",
       "  'handling_quality': 516.764892578125,\n",
       "  'fatigue_index': 2.684833288192749,\n",
       "  'manufacturing_cost': 10641.8681640625}]"
      ]
     },
     "execution_count": 16,
     "metadata": {},
     "output_type": "execute_result"
    }
   ],
   "source": [
    "optimal_objectives"
   ]
  }
 ],
 "metadata": {
  "kernelspec": {
   "display_name": "Python (optim)",
   "language": "python",
   "name": "optim"
  },
  "language_info": {
   "codemirror_mode": {
    "name": "ipython",
    "version": 3
   },
   "file_extension": ".py",
   "mimetype": "text/x-python",
   "name": "python",
   "nbconvert_exporter": "python",
   "pygments_lexer": "ipython3",
   "version": "3.10.18"
  }
 },
 "nbformat": 4,
 "nbformat_minor": 5
}
